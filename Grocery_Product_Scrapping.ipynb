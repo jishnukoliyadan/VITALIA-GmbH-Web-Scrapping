{
 "cells": [
  {
   "cell_type": "code",
   "execution_count": 1,
   "id": "319eef49-19eb-4621-b79a-bb1328cf61ef",
   "metadata": {
    "tags": []
   },
   "outputs": [],
   "source": [
    "import os\n",
    "import requests\n",
    "from tqdm import tqdm\n",
    "from time import sleep\n",
    "from bs4 import BeautifulSoup as sp\n",
    "from ast import literal_eval\n",
    "from glob import glob\n",
    "import pandas as pd\n",
    "from bs4 import BeautifulSoup as sp\n",
    "import requests\n",
    "import numpy as np\n",
    "from time import sleep\n",
    "import re\n",
    "import os\n",
    "from tqdm import tqdm"
   ]
  },
  {
   "cell_type": "code",
   "execution_count": 2,
   "id": "f88c8fa1-11fc-4108-8b3a-b9e616a4ace0",
   "metadata": {},
   "outputs": [],
   "source": [
    "os.makedirs('product_links', exist_ok = True)\n",
    "os.makedirs('data/intermediate', exist_ok = True)\n",
    "os.makedirs('data/final', exist_ok = True)"
   ]
  },
  {
   "cell_type": "code",
   "execution_count": 3,
   "id": "04cfd6af-25f8-47f1-8323-7ddd1316609d",
   "metadata": {
    "tags": []
   },
   "outputs": [],
   "source": [
    "def get_soup_obj(URL, pgNo):\n",
    "    \n",
    "    r = requests.get(URL + f'?p={pgNo}')\n",
    "    return sp(r.content, 'lxml')"
   ]
  },
  {
   "cell_type": "code",
   "execution_count": 4,
   "id": "b7fae5cb-9992-45b9-ab79-022283a7363a",
   "metadata": {
    "tags": []
   },
   "outputs": [],
   "source": [
    "def get_12_product_links(soup_obj):\n",
    "    \n",
    "    product_list = soup_obj.find('ol', {'class' : 'products list items product-items'}).find_all('li')\n",
    "    return [product.find('a')['href'] for product in product_list]"
   ]
  },
  {
   "cell_type": "code",
   "execution_count": 5,
   "id": "dc098e45-fe12-453b-83a5-bf036777f2d0",
   "metadata": {
    "tags": []
   },
   "outputs": [],
   "source": [
    "def get_page_counts(soup_obj):\n",
    "    \n",
    "    no_of_items = int(soup_obj.find('div', {'class' : 'toolbar toolbar-products'}).find_all('span', {'class' : 'toolbar-number'})[-1].text)\n",
    "    return int(round(no_of_items/12, 0))"
   ]
  },
  {
   "cell_type": "code",
   "execution_count": 6,
   "id": "f88f2700-89f7-40db-9fb5-44ee1d618d5b",
   "metadata": {
    "tags": []
   },
   "outputs": [],
   "source": [
    "def get_page_title(soup_obj):\n",
    "    \n",
    "    return soup_obj.find('span', {'data-ui-id' : 'page-title-wrapper'}).text"
   ]
  },
  {
   "cell_type": "code",
   "execution_count": 7,
   "id": "c798a4bd-b84f-41d9-958a-eae277e674b8",
   "metadata": {
    "tags": []
   },
   "outputs": [],
   "source": [
    "def save_as_dict(name, file):\n",
    "    \n",
    "    with open(f'product_links/{name}.txt', 'w') as f:\n",
    "        f.write(str(file))"
   ]
  },
  {
   "cell_type": "code",
   "execution_count": 8,
   "id": "c03126f8-64d5-4660-bccd-ae0b9dc15400",
   "metadata": {},
   "outputs": [],
   "source": [
    "def get_product_links(URL_List, filename):\n",
    "    \n",
    "    links_dict = {}\n",
    "\n",
    "    for URL in tqdm(URL_List):\n",
    "\n",
    "        product_links = []\n",
    "        soup = get_soup_obj(URL, 1)\n",
    "        No_pages = get_page_counts(soup)\n",
    "        page_title = get_page_title(soup)\n",
    "\n",
    "        product_links += get_12_product_links(soup)\n",
    "        sleep(2)\n",
    "\n",
    "        for pg_No in range(2, No_pages+1):\n",
    "\n",
    "            soup = get_soup_obj(URL, pg_No)\n",
    "            product_links += get_12_product_links(soup)\n",
    "            sleep(2)\n",
    "\n",
    "        links_dict[page_title] = product_links\n",
    "\n",
    "    save_as_dict(filename, links_dict)"
   ]
  },
  {
   "cell_type": "code",
   "execution_count": 9,
   "id": "d0ab3343-1ceb-47a6-8886-e96808b5957a",
   "metadata": {
    "tags": []
   },
   "outputs": [],
   "source": [
    "BreakFast_URL = ['https://www.vitalia-reformhaus.de/bio-lebensmittel/fruehstueckszutaten/brot-broetchen.html',\n",
    "                 'https://www.vitalia-reformhaus.de/bio-lebensmittel/fruehstueckszutaten/suesse-brotaufstriche.html', \n",
    "                 'https://www.vitalia-reformhaus.de/bio-lebensmittel/fruehstueckszutaten/bio-brotaufstrich.html', \n",
    "                 'https://www.vitalia-reformhaus.de/bio-lebensmittel/fruehstueckszutaten/bio-honig.html', \n",
    "                 'https://www.vitalia-reformhaus.de/bio-lebensmittel/fruehstueckszutaten/bio-kaffee.html', \n",
    "                 'https://www.vitalia-reformhaus.de/bio-lebensmittel/fruehstueckszutaten/bio-muesli.html', \n",
    "                 'https://www.vitalia-reformhaus.de/bio-lebensmittel/fruehstueckszutaten/nussmus.html', \n",
    "                 'https://www.vitalia-reformhaus.de/bio-lebensmittel/fruehstueckszutaten/pflanzendrinks.html', \n",
    "                 'https://www.vitalia-reformhaus.de/bio-lebensmittel/fruehstueckszutaten/saaten-keime.html']"
   ]
  },
  {
   "cell_type": "code",
   "execution_count": 10,
   "id": "da18b567-6025-4f27-978c-3dca570a01a0",
   "metadata": {},
   "outputs": [
    {
     "name": "stderr",
     "output_type": "stream",
     "text": [
      "100%|████████████████████████████████████████████████████████████████████████████████████████████████████████████████████████████████████████████████████████████████████████| 9/9 [01:31<00:00, 10.12s/it]\n"
     ]
    }
   ],
   "source": [
    "get_product_links(BreakFast_URL, 'beakfast_dict')"
   ]
  },
  {
   "cell_type": "code",
   "execution_count": 11,
   "id": "0440159f-ec05-4896-88e2-a4d84a0bdebd",
   "metadata": {
    "tags": []
   },
   "outputs": [],
   "source": [
    "Superfood_URL = ['https://www.vitalia-reformhaus.de/bio-lebensmittel/superfood-lebensmittel/superfood-beeren.html',\n",
    "                 'https://www.vitalia-reformhaus.de/bio-lebensmittel/superfood-lebensmittel/superfood-nuesse.html',\n",
    "                 'https://www.vitalia-reformhaus.de/bio-lebensmittel/superfood-lebensmittel/superfood-pulver.html']"
   ]
  },
  {
   "cell_type": "code",
   "execution_count": 12,
   "id": "91402987-c7b7-4ab9-8043-22516f938191",
   "metadata": {},
   "outputs": [
    {
     "name": "stderr",
     "output_type": "stream",
     "text": [
      "100%|████████████████████████████████████████████████████████████████████████████████████████████████████████████████████████████████████████████████████████████████████████| 3/3 [00:15<00:00,  5.06s/it]\n"
     ]
    }
   ],
   "source": [
    "get_product_links(Superfood_URL, 'superfood_dict')"
   ]
  },
  {
   "cell_type": "code",
   "execution_count": 13,
   "id": "0653ffae-dd1c-40bf-b513-689f82ed4df5",
   "metadata": {
    "tags": []
   },
   "outputs": [],
   "source": [
    "Cook_URL = ['https://www.vitalia-reformhaus.de/bio-lebensmittel/kochzutaten/geliermittel.html',\n",
    "            'https://www.vitalia-reformhaus.de/bio-lebensmittel/kochzutaten/essig-oel.html',\n",
    "            'https://www.vitalia-reformhaus.de/bio-lebensmittel/kochzutaten/gemuesebruehe.html',\n",
    "            'https://www.vitalia-reformhaus.de/bio-lebensmittel/kochzutaten/gewuerze-kaufen.html',\n",
    "            'https://www.vitalia-reformhaus.de/bio-lebensmittel/kochzutaten/hefeflocken.html',\n",
    "            'https://www.vitalia-reformhaus.de/bio-lebensmittel/kochzutaten/makrobiotik.html',\n",
    "            'https://www.vitalia-reformhaus.de/bio-lebensmittel/kochzutaten/bio-nudeln.html',\n",
    "            'https://www.vitalia-reformhaus.de/bio-lebensmittel/kochzutaten/huelsenfruechte-kaufen.html',\n",
    "            'https://www.vitalia-reformhaus.de/bio-lebensmittel/kochzutaten/salz-pfeffer.html',\n",
    "            'https://www.vitalia-reformhaus.de/bio-lebensmittel/kochzutaten/bio-fertiggerichte.html']"
   ]
  },
  {
   "cell_type": "code",
   "execution_count": 14,
   "id": "1f901e33-a604-45c0-b808-56502f983bc2",
   "metadata": {},
   "outputs": [
    {
     "name": "stderr",
     "output_type": "stream",
     "text": [
      "100%|██████████████████████████████████████████████████████████████████████████████████████████████████████████████████████████████████████████████████████████████████████| 10/10 [01:17<00:00,  7.71s/it]\n"
     ]
    }
   ],
   "source": [
    "get_product_links(Cook_URL, 'cook_dict')"
   ]
  },
  {
   "cell_type": "code",
   "execution_count": 15,
   "id": "f397629c-ccb7-43ae-b54b-efeb4566e170",
   "metadata": {
    "tags": []
   },
   "outputs": [],
   "source": [
    "Bake_URL = ['https://www.vitalia-reformhaus.de/bio-lebensmittel/backen/bio-backmischungen.html',\n",
    "            'https://www.vitalia-reformhaus.de/bio-lebensmittel/backen/backzutaten.html',\n",
    "            'https://www.vitalia-reformhaus.de/bio-lebensmittel/backen/mehl-online-kaufen.html',\n",
    "            'https://www.vitalia-reformhaus.de/bio-lebensmittel/backen/suessungsmittel.html']"
   ]
  },
  {
   "cell_type": "code",
   "execution_count": 16,
   "id": "9d4db7c4-31e4-47d1-902d-7b8cd02ce64a",
   "metadata": {},
   "outputs": [
    {
     "name": "stderr",
     "output_type": "stream",
     "text": [
      "100%|████████████████████████████████████████████████████████████████████████████████████████████████████████████████████████████████████████████████████████████████████████| 4/4 [00:30<00:00,  7.61s/it]\n"
     ]
    }
   ],
   "source": [
    "get_product_links(Bake_URL, 'bake_dict')"
   ]
  },
  {
   "cell_type": "code",
   "execution_count": 17,
   "id": "b8c203e4-fab7-48e9-94c4-632a85260809",
   "metadata": {
    "tags": []
   },
   "outputs": [],
   "source": [
    "Sweet_n_Salty_URL = ['https://www.vitalia-reformhaus.de/bio-lebensmittel/bio-suessigkeiten/bio-bonbons.html',\n",
    "                     'https://www.vitalia-reformhaus.de/bio-lebensmittel/bio-suessigkeiten/fruchtschnitten.html',\n",
    "                     'https://www.vitalia-reformhaus.de/bio-lebensmittel/bio-suessigkeiten/kekse-waffeln.html',\n",
    "                     'https://www.vitalia-reformhaus.de/bio-lebensmittel/bio-suessigkeiten/bio-snacks.html',\n",
    "                     'https://www.vitalia-reformhaus.de/bio-lebensmittel/bio-suessigkeiten/bio-schokolade.html',\n",
    "                     'https://www.vitalia-reformhaus.de/bio-lebensmittel/bio-suessigkeiten/trockenfruechte-nuesse.html']"
   ]
  },
  {
   "cell_type": "code",
   "execution_count": 18,
   "id": "4a035111-9d66-4b87-a7f2-ac1406cf44a2",
   "metadata": {},
   "outputs": [
    {
     "name": "stderr",
     "output_type": "stream",
     "text": [
      "100%|████████████████████████████████████████████████████████████████████████████████████████████████████████████████████████████████████████████████████████████████████████| 6/6 [00:44<00:00,  7.39s/it]\n"
     ]
    }
   ],
   "source": [
    "get_product_links(Sweet_n_Salty_URL, 'sweet_n_salty_dict')"
   ]
  },
  {
   "cell_type": "code",
   "execution_count": 19,
   "id": "656ba269-a878-4748-8357-78f8ae0e6ea9",
   "metadata": {
    "tags": []
   },
   "outputs": [],
   "source": [
    "Tea_Enjoyment_URL = ['https://www.vitalia-reformhaus.de/bio-lebensmittel/bio-tee/ayurveda-tee.html',\n",
    "                     'https://www.vitalia-reformhaus.de/bio-lebensmittel/bio-tee/fruechte-tee.html',\n",
    "                     'https://www.vitalia-reformhaus.de/bio-lebensmittel/bio-tee/gruener-tee.html',\n",
    "                     'https://www.vitalia-reformhaus.de/bio-lebensmittel/bio-tee/kraeuter-tee.html',\n",
    "                     'https://www.vitalia-reformhaus.de/bio-lebensmittel/bio-tee/schwarzer-tee.html',\n",
    "                     'https://www.vitalia-reformhaus.de/bio-lebensmittel/bio-tee/teemischungen.html']"
   ]
  },
  {
   "cell_type": "code",
   "execution_count": 20,
   "id": "ccf54e0f-2f39-4568-8a75-147d74d0af22",
   "metadata": {},
   "outputs": [
    {
     "name": "stderr",
     "output_type": "stream",
     "text": [
      "100%|████████████████████████████████████████████████████████████████████████████████████████████████████████████████████████████████████████████████████████████████████████| 6/6 [01:10<00:00, 11.78s/it]\n"
     ]
    }
   ],
   "source": [
    "get_product_links(Tea_Enjoyment_URL, 'tea_enjoyment_dict')"
   ]
  },
  {
   "cell_type": "code",
   "execution_count": 21,
   "id": "b1581037-3f9a-4d3b-b80e-da888e8cb48b",
   "metadata": {
    "tags": []
   },
   "outputs": [],
   "source": [
    "Beverages_URL = ['https://www.vitalia-reformhaus.de/bio-lebensmittel/bio-getraenke/getraenkepulver.html',\n",
    "                 'https://www.vitalia-reformhaus.de/bio-lebensmittel/bio-getraenke/fruchtsaft.html',\n",
    "                 'https://www.vitalia-reformhaus.de/bio-lebensmittel/bio-getraenke/muttersaft.html']"
   ]
  },
  {
   "cell_type": "code",
   "execution_count": 22,
   "id": "298933cf-916e-482a-85cd-d36fed228b19",
   "metadata": {},
   "outputs": [
    {
     "name": "stderr",
     "output_type": "stream",
     "text": [
      "100%|████████████████████████████████████████████████████████████████████████████████████████████████████████████████████████████████████████████████████████████████████████| 3/3 [00:25<00:00,  8.62s/it]\n"
     ]
    }
   ],
   "source": [
    "get_product_links(Beverages_URL, 'beverages_dict')"
   ]
  },
  {
   "cell_type": "code",
   "execution_count": 23,
   "id": "9fe89ef1-1b66-44cf-a779-dd9d8e7821a7",
   "metadata": {
    "tags": []
   },
   "outputs": [],
   "source": [
    "Gluten_Free_Foods_URL = ['https://www.vitalia-reformhaus.de/bio-lebensmittel/glutenfreie-lebensmittel/glutenfreies-brot.html',\n",
    "                         'https://www.vitalia-reformhaus.de/bio-lebensmittel/glutenfreie-lebensmittel/glutenfreie-kekse.html',\n",
    "                         'https://www.vitalia-reformhaus.de/bio-lebensmittel/glutenfreie-lebensmittel/glutenfreies-mehl.html',\n",
    "                         'https://www.vitalia-reformhaus.de/bio-lebensmittel/glutenfreie-lebensmittel/glutenfreies-muesli.html',\n",
    "                         'https://www.vitalia-reformhaus.de/bio-lebensmittel/glutenfreie-lebensmittel/glutenfreie-nudeln.html',\n",
    "                         'https://www.vitalia-reformhaus.de/bio-lebensmittel/glutenfreie-lebensmittel/glutenfreie-suessigkeiten.html']"
   ]
  },
  {
   "cell_type": "code",
   "execution_count": 24,
   "id": "8fade431-106d-4ac2-9679-e1ec28b1bf94",
   "metadata": {},
   "outputs": [
    {
     "name": "stderr",
     "output_type": "stream",
     "text": [
      "100%|████████████████████████████████████████████████████████████████████████████████████████████████████████████████████████████████████████████████████████████████████████| 6/6 [00:48<00:00,  8.08s/it]\n"
     ]
    }
   ],
   "source": [
    "get_product_links(Gluten_Free_Foods_URL, 'gluten_free_foods_dict')"
   ]
  },
  {
   "cell_type": "code",
   "execution_count": 25,
   "id": "43eea123-d042-44b7-857b-9aeb13b4ac8a",
   "metadata": {
    "tags": []
   },
   "outputs": [],
   "source": [
    "Vegan_Foods_URL = ['https://www.vitalia-reformhaus.de/bio-lebensmittel/vegane-lebensmittel/vegane-marmelade.html',\n",
    "                   'https://www.vitalia-reformhaus.de/bio-lebensmittel/vegane-lebensmittel/veganer-brotaufstrich.html',\n",
    "                   'https://www.vitalia-reformhaus.de/bio-lebensmittel/vegane-lebensmittel/vegane-fertiggerichte.html',\n",
    "                   'https://www.vitalia-reformhaus.de/bio-lebensmittel/vegane-lebensmittel/veganer-fleischersatz.html',\n",
    "                   'https://www.vitalia-reformhaus.de/bio-lebensmittel/vegane-lebensmittel/vegane-getraenke.html',\n",
    "                   'https://www.vitalia-reformhaus.de/bio-lebensmittel/vegane-lebensmittel/vegane-grundzutaten.html',\n",
    "                   'https://www.vitalia-reformhaus.de/bio-lebensmittel/vegane-lebensmittel/milchersatzprodukte.html',\n",
    "                   'https://www.vitalia-reformhaus.de/bio-lebensmittel/vegane-lebensmittel/veganes-muesli.html',\n",
    "                   'https://www.vitalia-reformhaus.de/bio-lebensmittel/vegane-lebensmittel/vegane-suessigkeiten.html']"
   ]
  },
  {
   "cell_type": "code",
   "execution_count": 26,
   "id": "8a93828e-ea5d-4e7c-9e48-c68678b82175",
   "metadata": {},
   "outputs": [
    {
     "name": "stderr",
     "output_type": "stream",
     "text": [
      "100%|████████████████████████████████████████████████████████████████████████████████████████████████████████████████████████████████████████████████████████████████████████| 9/9 [02:37<00:00, 17.51s/it]\n"
     ]
    }
   ],
   "source": [
    "get_product_links(Vegan_Foods_URL, 'vegan_foods_dict')"
   ]
  },
  {
   "cell_type": "code",
   "execution_count": 27,
   "id": "85d8fc0a-ec51-45e5-b37b-a90844439513",
   "metadata": {},
   "outputs": [],
   "source": [
    "product_links = sorted(glob('product_links/*.txt'))\n",
    "\n",
    "major_cat = ['Backen', 'Frühstück', 'Getränke', 'Kochen',\n",
    "             'Glutenfreie Lebensmittel', 'Superfood', 'Süßes & Salziges', \n",
    "             'Tee-Genuss', 'Vegane Lebensmittel']\n",
    "\n",
    "product_link_df = pd.DataFrame(columns = ['PROD_Section', 'PROD_Category', 'PROD_LINK'])"
   ]
  },
  {
   "cell_type": "code",
   "execution_count": 28,
   "id": "81d825e7-afb7-47b3-a820-2c207be8a43e",
   "metadata": {},
   "outputs": [
    {
     "name": "stdout",
     "output_type": "stream",
     "text": [
      "Shape of the Product link dataset : (1798, 3)\n",
      "Number of unique products present : 982\n",
      "\n"
     ]
    },
    {
     "data": {
      "text/html": [
       "<div>\n",
       "<style scoped>\n",
       "    .dataframe tbody tr th:only-of-type {\n",
       "        vertical-align: middle;\n",
       "    }\n",
       "\n",
       "    .dataframe tbody tr th {\n",
       "        vertical-align: top;\n",
       "    }\n",
       "\n",
       "    .dataframe thead th {\n",
       "        text-align: right;\n",
       "    }\n",
       "</style>\n",
       "<table border=\"1\" class=\"dataframe\">\n",
       "  <thead>\n",
       "    <tr style=\"text-align: right;\">\n",
       "      <th></th>\n",
       "      <th>PROD_Section</th>\n",
       "      <th>PROD_Category</th>\n",
       "      <th>PROD_LINK</th>\n",
       "    </tr>\n",
       "  </thead>\n",
       "  <tbody>\n",
       "    <tr>\n",
       "      <th>0</th>\n",
       "      <td>Backen</td>\n",
       "      <td>Backmischungen</td>\n",
       "      <td>https://www.vitalia-reformhaus.de/bauckhof-wun...</td>\n",
       "    </tr>\n",
       "    <tr>\n",
       "      <th>1</th>\n",
       "      <td>Backen</td>\n",
       "      <td>Backmischungen</td>\n",
       "      <td>https://www.vitalia-reformhaus.de/bauckhof-wun...</td>\n",
       "    </tr>\n",
       "    <tr>\n",
       "      <th>2</th>\n",
       "      <td>Backen</td>\n",
       "      <td>Backmischungen</td>\n",
       "      <td>https://www.vitalia-reformhaus.de/bauckhof-wun...</td>\n",
       "    </tr>\n",
       "    <tr>\n",
       "      <th>3</th>\n",
       "      <td>Backen</td>\n",
       "      <td>Backmischungen</td>\n",
       "      <td>https://www.vitalia-reformhaus.de/bauckhof-wun...</td>\n",
       "    </tr>\n",
       "    <tr>\n",
       "      <th>4</th>\n",
       "      <td>Backen</td>\n",
       "      <td>Backmischungen</td>\n",
       "      <td>https://www.vitalia-reformhaus.de/baukhof-schn...</td>\n",
       "    </tr>\n",
       "  </tbody>\n",
       "</table>\n",
       "</div>"
      ],
      "text/plain": [
       "  PROD_Section   PROD_Category  \\\n",
       "0       Backen  Backmischungen   \n",
       "1       Backen  Backmischungen   \n",
       "2       Backen  Backmischungen   \n",
       "3       Backen  Backmischungen   \n",
       "4       Backen  Backmischungen   \n",
       "\n",
       "                                           PROD_LINK  \n",
       "0  https://www.vitalia-reformhaus.de/bauckhof-wun...  \n",
       "1  https://www.vitalia-reformhaus.de/bauckhof-wun...  \n",
       "2  https://www.vitalia-reformhaus.de/bauckhof-wun...  \n",
       "3  https://www.vitalia-reformhaus.de/bauckhof-wun...  \n",
       "4  https://www.vitalia-reformhaus.de/baukhof-schn...  "
      ]
     },
     "execution_count": 28,
     "metadata": {},
     "output_type": "execute_result"
    }
   ],
   "source": [
    "for cat, link in zip(major_cat, product_links):\n",
    "    \n",
    "    with open(link, 'r') as file:\n",
    "        dicts_ = literal_eval(file.read())\n",
    "        \n",
    "        for key, values in dicts_.items():\n",
    "            for value in values:\n",
    "                product_link_df.loc[len(product_link_df)] = [cat, key, value]\n",
    "\n",
    "product_link_df.to_csv('data/intermediate/product_category_nd_links.csv', index = False)\n",
    "\n",
    "print(f'Shape of the Product link dataset : {product_link_df.shape}')\n",
    "print(f'Number of unique products present : {product_link_df.PROD_LINK.nunique()}\\n')\n",
    "product_link_df.head()"
   ]
  },
  {
   "cell_type": "code",
   "execution_count": 29,
   "id": "dbe25c8a-0e6c-4dd7-8095-0595717c970d",
   "metadata": {},
   "outputs": [],
   "source": [
    "def get_product_soup(URL):\n",
    "\n",
    "    r = requests.get(URL)\n",
    "    return sp(r.content, 'lxml')"
   ]
  },
  {
   "cell_type": "code",
   "execution_count": 30,
   "id": "a690b8d6-bd82-4ecc-9fb8-fb15885ac2a9",
   "metadata": {},
   "outputs": [],
   "source": [
    "def get_product_name(soup_obj):\n",
    "    \n",
    "    try:\n",
    "        return soup_obj.find('h1', {'class' : 'page-title'}).text.strip()\n",
    "    except:\n",
    "        return np.nan"
   ]
  },
  {
   "cell_type": "code",
   "execution_count": 31,
   "id": "c1264f3f-fc5c-48b9-8219-348ed3107718",
   "metadata": {},
   "outputs": [],
   "source": [
    "def get_product_price(soup_obj):\n",
    "    \n",
    "    try:\n",
    "        return soup_obj.find('span', {'class' : 'price'}).text.strip()\n",
    "    except:\n",
    "        return np.nan"
   ]
  },
  {
   "cell_type": "code",
   "execution_count": 32,
   "id": "5e442d01-9760-400b-9d87-2e9430c3b70c",
   "metadata": {},
   "outputs": [],
   "source": [
    "def get_product_img_url(soup_obj):\n",
    "    \n",
    "    try:\n",
    "        return soup_obj.find('img', {'alt' : 'main product photo'})['src']\n",
    "    except:\n",
    "        return np.nan"
   ]
  },
  {
   "cell_type": "code",
   "execution_count": 33,
   "id": "3925a81e-97fc-4d45-939d-b61ca0abc1e6",
   "metadata": {},
   "outputs": [],
   "source": [
    "def get_product_description(soup_obj):\n",
    "    \n",
    "    try:\n",
    "        a_description = []\n",
    "        attribute_description = soup_obj.find('div', {'class' : 'product attribute description'}).find_all('p')\n",
    "        for description in attribute_description:\n",
    "            if 'Rechtlicher Status' in description.text:\n",
    "                break\n",
    "            a_description.append(description.text)\n",
    "        return ' '.join(a_description).strip()\n",
    "    except:\n",
    "        return np.nan"
   ]
  },
  {
   "cell_type": "code",
   "execution_count": 34,
   "id": "8ef32769-fbce-435c-bfb0-633f060bf7ce",
   "metadata": {},
   "outputs": [],
   "source": [
    "def get_product_overview(soup_obj):\n",
    "    \n",
    "    try:\n",
    "        a_overview = []\n",
    "        attribute_overview = soup.find('div', {'itemprop' : 'description'}).find_all('li')        \n",
    "        for overview in attribute_overview:\n",
    "            a_overview.append(overview.text)\n",
    "        return ', '.join(a_overview).strip()\n",
    "    except:\n",
    "        return np.nan"
   ]
  },
  {
   "cell_type": "code",
   "execution_count": 35,
   "id": "76e3a11c-efa1-4c3c-a7ba-ef317f6b8011",
   "metadata": {},
   "outputs": [],
   "source": [
    "def get_product_brand(soup_obj):\n",
    "    \n",
    "    try:\n",
    "        Flag = False\n",
    "        attribute_description = soup_obj.find('div', {'class' : 'product attribute description'}).find_all('p')\n",
    "        for description in attribute_description:    \n",
    "            if 'Hersteller Anschrift' in description.text:\n",
    "                Flag = True\n",
    "            if Flag:\n",
    "                brand = re.sub(r'<p>', '', str(description).split('<br')[0])\n",
    "        return brand\n",
    "    except:\n",
    "        return np.nan"
   ]
  },
  {
   "cell_type": "code",
   "execution_count": 36,
   "id": "9690952a-84c7-4470-b8e6-3c3f6fe1421f",
   "metadata": {},
   "outputs": [
    {
     "name": "stderr",
     "output_type": "stream",
     "text": [
      "100%|██████████████████████████████████████████████████████████████████████████████████████████████████████████████████████████████████████████████████████████████████| 982/982 [1:11:52<00:00,  4.39s/it]\n"
     ]
    }
   ],
   "source": [
    "scrapped_products_df = pd.DataFrame(columns = ['PROD_NAME', 'PROD_PRICE', 'PROD_IMAGE_URL', 'PROD_DESCRIPTION', 'PRO_OVERVIEW', 'PROD_BRAND', 'PROD_LINK'])\n",
    "\n",
    "for link in tqdm(product_link_df.PROD_LINK.unique()):\n",
    "    \n",
    "    soup = get_product_soup(link)\n",
    "    \n",
    "    name = get_product_name(soup)\n",
    "    \n",
    "    price = get_product_price(soup)\n",
    "\n",
    "    img_url = get_product_img_url(soup)\n",
    "\n",
    "    description = get_product_description(soup)\n",
    "\n",
    "    overview = get_product_overview(soup)\n",
    "\n",
    "    brand = get_product_brand(soup)\n",
    "    \n",
    "    scrapped_products_df.loc[len(scrapped_products_df)] = [name, price, img_url, description, overview, brand, link]\n",
    "    \n",
    "    sleep(3)\n",
    "    \n",
    "scrapped_products_df.to_csv('data/intermediate/scrapped_product_information.csv', index = False)"
   ]
  },
  {
   "cell_type": "code",
   "execution_count": null,
   "id": "892344ba-a139-4fd1-8714-f054f3d72335",
   "metadata": {},
   "outputs": [],
   "source": []
  },
  {
   "cell_type": "code",
   "execution_count": null,
   "id": "a51dc288-8cc1-40e9-a794-d56e16168f8f",
   "metadata": {},
   "outputs": [],
   "source": []
  },
  {
   "cell_type": "code",
   "execution_count": null,
   "id": "0f23563d-33b5-4e37-a852-7e079450303b",
   "metadata": {},
   "outputs": [],
   "source": []
  },
  {
   "cell_type": "code",
   "execution_count": null,
   "id": "635829e4-7c18-41d5-95c6-644819a39a43",
   "metadata": {},
   "outputs": [],
   "source": []
  },
  {
   "cell_type": "code",
   "execution_count": null,
   "id": "8b1d6d45-6f5e-4343-b995-7eba02d3a1ab",
   "metadata": {},
   "outputs": [],
   "source": []
  },
  {
   "cell_type": "code",
   "execution_count": null,
   "id": "1bd1a306-fc83-42d6-8272-046333515d10",
   "metadata": {},
   "outputs": [],
   "source": []
  },
  {
   "cell_type": "code",
   "execution_count": null,
   "id": "a84340b9-403c-4735-83eb-c7dfcadad532",
   "metadata": {},
   "outputs": [],
   "source": []
  },
  {
   "cell_type": "code",
   "execution_count": null,
   "id": "a0aec69e-ef42-438b-a856-d036003d3df1",
   "metadata": {},
   "outputs": [],
   "source": []
  }
 ],
 "metadata": {
  "kernelspec": {
   "display_name": "Python 3 (ipykernel)",
   "language": "python",
   "name": "python3"
  },
  "language_info": {
   "codemirror_mode": {
    "name": "ipython",
    "version": 3
   },
   "file_extension": ".py",
   "mimetype": "text/x-python",
   "name": "python",
   "nbconvert_exporter": "python",
   "pygments_lexer": "ipython3",
   "version": "3.9.7"
  }
 },
 "nbformat": 4,
 "nbformat_minor": 5
}
