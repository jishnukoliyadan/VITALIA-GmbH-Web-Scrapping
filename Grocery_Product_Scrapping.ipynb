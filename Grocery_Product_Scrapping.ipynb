{
 "cells": [
  {
   "cell_type": "code",
   "execution_count": 1,
   "id": "319eef49-19eb-4621-b79a-bb1328cf61ef",
   "metadata": {
    "tags": []
   },
   "outputs": [],
   "source": [
    "import os\n",
    "import requests\n",
    "from tqdm import tqdm\n",
    "from time import sleep\n",
    "from bs4 import BeautifulSoup as sp"
   ]
  },
  {
   "cell_type": "code",
   "execution_count": 2,
   "id": "f88c8fa1-11fc-4108-8b3a-b9e616a4ace0",
   "metadata": {},
   "outputs": [],
   "source": [
    "os.makedirs('product_links', exist_ok = True)"
   ]
  },
  {
   "cell_type": "code",
   "execution_count": 3,
   "id": "04cfd6af-25f8-47f1-8323-7ddd1316609d",
   "metadata": {
    "tags": []
   },
   "outputs": [],
   "source": [
    "def get_soup_obj(URL, pgNo):\n",
    "    \n",
    "    r = requests.get(URL + f'?p={pgNo}')\n",
    "    return sp(r.content, 'lxml')"
   ]
  },
  {
   "cell_type": "code",
   "execution_count": 4,
   "id": "b7fae5cb-9992-45b9-ab79-022283a7363a",
   "metadata": {
    "tags": []
   },
   "outputs": [],
   "source": [
    "def get_12_product_links(soup_obj):\n",
    "    \n",
    "    product_list = soup_obj.find('ol', {'class' : 'products list items product-items'}).find_all('li')\n",
    "    return [product.find('a')['href'] for product in product_list]"
   ]
  },
  {
   "cell_type": "code",
   "execution_count": 5,
   "id": "dc098e45-fe12-453b-83a5-bf036777f2d0",
   "metadata": {
    "tags": []
   },
   "outputs": [],
   "source": [
    "def get_page_counts(soup_obj):\n",
    "    \n",
    "    no_of_items = int(soup_obj.find('div', {'class' : 'toolbar toolbar-products'}).find_all('span', {'class' : 'toolbar-number'})[-1].text)\n",
    "    return int(round(no_of_items/12, 0))"
   ]
  },
  {
   "cell_type": "code",
   "execution_count": 6,
   "id": "f88f2700-89f7-40db-9fb5-44ee1d618d5b",
   "metadata": {
    "tags": []
   },
   "outputs": [],
   "source": [
    "def get_page_title(soup_obj):\n",
    "    \n",
    "    return soup_obj.find('span', {'data-ui-id' : 'page-title-wrapper'}).text"
   ]
  },
  {
   "cell_type": "code",
   "execution_count": 7,
   "id": "c798a4bd-b84f-41d9-958a-eae277e674b8",
   "metadata": {
    "tags": []
   },
   "outputs": [],
   "source": [
    "def save_as_dict(name, file):\n",
    "    \n",
    "    with open(f'product_links/{name}.txt', 'w') as f:\n",
    "        f.write(str(file))"
   ]
  },
  {
   "cell_type": "code",
   "execution_count": 8,
   "id": "c03126f8-64d5-4660-bccd-ae0b9dc15400",
   "metadata": {},
   "outputs": [],
   "source": [
    "def get_product_links(URL_List, filename):\n",
    "    \n",
    "    links_dict = {}\n",
    "\n",
    "    for URL in tqdm(URL_List):\n",
    "\n",
    "        product_links = []\n",
    "        soup = get_soup_obj(URL, 1)\n",
    "        No_pages = get_page_counts(soup)\n",
    "        page_title = get_page_title(soup)\n",
    "\n",
    "        product_links += get_12_product_links(soup)\n",
    "        sleep(2)\n",
    "\n",
    "        for pg_No in range(2, No_pages+1):\n",
    "\n",
    "            soup = get_soup_obj(URL, pg_No)\n",
    "            product_links += get_12_product_links(soup)\n",
    "            sleep(2)\n",
    "\n",
    "        links_dict[page_title] = product_links\n",
    "\n",
    "    save_as_dict(filename, links_dict)"
   ]
  },
  {
   "cell_type": "code",
   "execution_count": 9,
   "id": "d0ab3343-1ceb-47a6-8886-e96808b5957a",
   "metadata": {
    "tags": []
   },
   "outputs": [],
   "source": [
    "BreakFast_URL = ['https://www.vitalia-reformhaus.de/bio-lebensmittel/fruehstueckszutaten/brot-broetchen.html',\n",
    "                 'https://www.vitalia-reformhaus.de/bio-lebensmittel/fruehstueckszutaten/suesse-brotaufstriche.html', \n",
    "                 'https://www.vitalia-reformhaus.de/bio-lebensmittel/fruehstueckszutaten/bio-brotaufstrich.html', \n",
    "                 'https://www.vitalia-reformhaus.de/bio-lebensmittel/fruehstueckszutaten/bio-honig.html', \n",
    "                 'https://www.vitalia-reformhaus.de/bio-lebensmittel/fruehstueckszutaten/bio-kaffee.html', \n",
    "                 'https://www.vitalia-reformhaus.de/bio-lebensmittel/fruehstueckszutaten/bio-muesli.html', \n",
    "                 'https://www.vitalia-reformhaus.de/bio-lebensmittel/fruehstueckszutaten/nussmus.html', \n",
    "                 'https://www.vitalia-reformhaus.de/bio-lebensmittel/fruehstueckszutaten/pflanzendrinks.html', \n",
    "                 'https://www.vitalia-reformhaus.de/bio-lebensmittel/fruehstueckszutaten/saaten-keime.html']"
   ]
  },
  {
   "cell_type": "code",
   "execution_count": 10,
   "id": "da18b567-6025-4f27-978c-3dca570a01a0",
   "metadata": {},
   "outputs": [
    {
     "name": "stderr",
     "output_type": "stream",
     "text": [
      "100%|████████████████████████████████████████████████████████████████████████████████████████████████████████████████████████████████████████████████████████████████████████| 9/9 [01:31<00:00, 10.12s/it]\n"
     ]
    }
   ],
   "source": [
    "get_product_links(BreakFast_URL, 'beakfast_dict')"
   ]
  },
  {
   "cell_type": "code",
   "execution_count": 11,
   "id": "0440159f-ec05-4896-88e2-a4d84a0bdebd",
   "metadata": {
    "tags": []
   },
   "outputs": [],
   "source": [
    "Superfood_URL = ['https://www.vitalia-reformhaus.de/bio-lebensmittel/superfood-lebensmittel/superfood-beeren.html',\n",
    "                 'https://www.vitalia-reformhaus.de/bio-lebensmittel/superfood-lebensmittel/superfood-nuesse.html',\n",
    "                 'https://www.vitalia-reformhaus.de/bio-lebensmittel/superfood-lebensmittel/superfood-pulver.html']"
   ]
  },
  {
   "cell_type": "code",
   "execution_count": 12,
   "id": "91402987-c7b7-4ab9-8043-22516f938191",
   "metadata": {},
   "outputs": [
    {
     "name": "stderr",
     "output_type": "stream",
     "text": [
      "100%|████████████████████████████████████████████████████████████████████████████████████████████████████████████████████████████████████████████████████████████████████████| 3/3 [00:15<00:00,  5.06s/it]\n"
     ]
    }
   ],
   "source": [
    "get_product_links(Superfood_URL, 'superfood_dict')"
   ]
  },
  {
   "cell_type": "code",
   "execution_count": null,
   "id": "87e775d6-715c-4151-876e-c3180162cbdd",
   "metadata": {},
   "outputs": [],
   "source": []
  },
  {
   "cell_type": "code",
   "execution_count": null,
   "id": "319733ac-4467-40c3-8e15-9bedd72129e2",
   "metadata": {},
   "outputs": [],
   "source": []
  }
 ],
 "metadata": {
  "kernelspec": {
   "display_name": "Python 3 (ipykernel)",
   "language": "python",
   "name": "python3"
  },
  "language_info": {
   "codemirror_mode": {
    "name": "ipython",
    "version": 3
   },
   "file_extension": ".py",
   "mimetype": "text/x-python",
   "name": "python",
   "nbconvert_exporter": "python",
   "pygments_lexer": "ipython3",
   "version": "3.9.7"
  }
 },
 "nbformat": 4,
 "nbformat_minor": 5
}
